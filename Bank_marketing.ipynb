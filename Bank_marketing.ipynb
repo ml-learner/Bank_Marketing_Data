{
 "cells": [
  {
   "cell_type": "code",
   "execution_count": 1,
   "metadata": {},
   "outputs": [],
   "source": [
    "###load Packages##\n",
    "import warnings\n",
    "warnings.filterwarnings('ignore')\n",
    "import pandas as pd\n",
    "import numpy as np\n",
    "import seaborn as sns\n",
    "import matplotlib.pyplot as plt\n",
    "from sklearn.model_selection import train_test_split, StratifiedKFold, cross_val_score\n",
    "from sklearn.preprocessing import StandardScaler\n",
    "from sklearn.linear_model import LogisticRegression\n",
    "from sklearn.svm import SVC, LinearSVC\n",
    "from sklearn.ensemble import RandomForestClassifier\n",
    "import xgboost as xgb\n",
    "import lightgbm as lgm\n",
    "\n",
    "%matplotlib inline"
   ]
  },
  {
   "cell_type": "code",
   "execution_count": 2,
   "metadata": {},
   "outputs": [],
   "source": [
    "###Load Data###\n",
    "df_train = pd.read_csv(\"D:/Dropbox/Machine_learning/Projects/Bank_Marketing/bank_additional_full.csv\", sep = \";\")\n",
    "df_test = pd.read_csv(\"D:/Dropbox/Machine_learning/Projects/Bank_Marketing/bank_additional.csv\", sep = \";\")"
   ]
  },
  {
   "cell_type": "code",
   "execution_count": 3,
   "metadata": {},
   "outputs": [],
   "source": [
    "###Check basic information###\n",
    "#df_train.head()\n",
    "#df_test.head()"
   ]
  },
  {
   "cell_type": "code",
   "execution_count": 4,
   "metadata": {},
   "outputs": [],
   "source": [
    "###Check basic information###\n",
    "#df_train.info()\n",
    "#df_test.info()"
   ]
  },
  {
   "cell_type": "code",
   "execution_count": 5,
   "metadata": {},
   "outputs": [],
   "source": [
    "###Check basic information###\n",
    "#df_train.dtypes"
   ]
  },
  {
   "cell_type": "code",
   "execution_count": 6,
   "metadata": {},
   "outputs": [],
   "source": [
    "###Drop duration due to data leakage###\n",
    "df_train.drop('duration', axis = 1, inplace = True)\n",
    "df_test.drop('duration', axis = 1, inplace = True)"
   ]
  },
  {
   "cell_type": "code",
   "execution_count": 7,
   "metadata": {},
   "outputs": [],
   "source": [
    "###Check missing values###\n",
    "#df_train.isna().sum()\n",
    "#df_test.isna().sum()"
   ]
  },
  {
   "cell_type": "code",
   "execution_count": 8,
   "metadata": {},
   "outputs": [],
   "source": [
    "### Descriptive statistics for numeric variables ###\n",
    "#df_train.describe()"
   ]
  },
  {
   "cell_type": "code",
   "execution_count": 9,
   "metadata": {},
   "outputs": [
    {
     "data": {
      "text/plain": [
       "<matplotlib.axes._subplots.AxesSubplot at 0x2563f911ac8>"
      ]
     },
     "execution_count": 9,
     "metadata": {},
     "output_type": "execute_result"
    },
    {
     "data": {
      "image/png": "[encoded data removed]",
      "text/plain": [
       "<Figure size 432x288 with 1 Axes>"
      ]
     },
     "metadata": {
      "needs_background": "light"
     },
     "output_type": "display_data"
    }
   ],
   "source": [
    "###Check variable pdays###\n",
    "df_train['pdays'].hist()"
   ]
  },
  {
   "cell_type": "code",
   "execution_count": 10,
   "metadata": {},
   "outputs": [],
   "source": [
    "###Drop pdays due to large number of missing values###\n",
    "df_train.loc[df_train['pdays'] == 999, 'pdays'] = \"never\"\n",
    "df_train.loc[df_train['pdays'] != 999, 'pdays'] = \"before\""
   ]
  },
  {
   "cell_type": "code",
   "execution_count": 11,
   "metadata": {},
   "outputs": [],
   "source": [
    "###Check missing values of categorical variables###\n",
    "# var_with_unknown = ['job', 'education', 'marital', 'default', 'housing', 'loan']\n",
    "\n",
    "# total = df_train.shape[0]\n",
    "# number = []\n",
    "# percentage = []\n",
    "\n",
    "# for col in var_with_unknown:\n",
    "#     number.append(df_train.loc[df_train[col] == 'unknown', col].count())\n",
    "#     percentage.append(df_train.loc[df_train[col] == 'unknown', col].count() / total *100)\n",
    "    \n",
    "# missing_table = pd.DataFrame({'Name': var_with_unknown, 'Number': number, 'Percentage': percentage})\n",
    "# missing_table"
   ]
  },
  {
   "cell_type": "code",
   "execution_count": 12,
   "metadata": {},
   "outputs": [],
   "source": [
    "###Drop unknown values for job and marital due to small amounts (80 and 330)###\n",
    "df_train = df_train[df_train['job'] != 'unknown']\n",
    "df_train = df_train[df_train['marital'] != \"unknown\"]"
   ]
  },
  {
   "cell_type": "code",
   "execution_count": 13,
   "metadata": {},
   "outputs": [],
   "source": [
    "#df_train.shape"
   ]
  },
  {
   "cell_type": "code",
   "execution_count": 14,
   "metadata": {},
   "outputs": [],
   "source": [
    "#pd.crosstab(df_train['job'], df_train['education'])"
   ]
  },
  {
   "cell_type": "code",
   "execution_count": 15,
   "metadata": {},
   "outputs": [],
   "source": [
    "###Impute education by using job ###\n",
    "df_train.loc[(df_train['education']=='unknown') & (df_train['job']=='admin.'), 'education'] = 'university.degree'\n",
    "df_train.loc[(df_train['education']=='unknown') & (df_train['job']=='blue-collar'), 'education'] = 'basic.9y'\n",
    "df_train.loc[(df_train['education']=='unknown') & (df_train['job']=='entrepreneur'), 'education'] = 'university.degree'\n",
    "df_train.loc[(df_train['education']=='unknown') & (df_train['job']=='housemaid'), 'education'] = 'basic.4y'\n",
    "df_train.loc[(df_train['education']=='unknown') & (df_train['job']=='management'), 'education'] = 'university.degree'\n",
    "df_train.loc[(df_train['education']=='unknown') & (df_train['job']=='retired'), 'education'] = 'basic.4y'\n",
    "df_train.loc[(df_train['education']=='unknown') & (df_train['job']=='self-employed'), 'education'] = 'university.degree'\n",
    "df_train.loc[(df_train['education']=='unknown') & (df_train['job']=='services'), 'education'] = 'high.school'\n",
    "df_train.loc[(df_train['education']=='unknown') & (df_train['job']=='student'), 'education'] = 'high.school'\n",
    "df_train.loc[(df_train['education']=='unknown') & (df_train['job']=='technician'), 'education'] = 'professional.course'\n",
    "df_train.loc[(df_train['education']=='unknown') & (df_train['job']=='unemployed'), 'education'] = 'university.degree'"
   ]
  },
  {
   "cell_type": "code",
   "execution_count": 16,
   "metadata": {},
   "outputs": [],
   "source": [
    "#pd.crosstab(df_train.job, df_train.housing)"
   ]
  },
  {
   "cell_type": "code",
   "execution_count": 17,
   "metadata": {},
   "outputs": [],
   "source": [
    "###impute unknown in housing with its mode###\n",
    "housing_mode = df_train['housing'].mode()\n",
    "df_train['housing'].replace('unknown', housing_mode[0], inplace = True)\n",
    "#df_train['housing'].value_counts()"
   ]
  },
  {
   "cell_type": "code",
   "execution_count": 18,
   "metadata": {},
   "outputs": [],
   "source": [
    "#pd.crosstab(df_train.job, df_train.loan)"
   ]
  },
  {
   "cell_type": "code",
   "execution_count": 19,
   "metadata": {},
   "outputs": [],
   "source": [
    "###impute unknown in loan with its mode###\n",
    "loan_mode = df_train['loan'].mode()\n",
    "df_train['loan'].replace('unknown', loan_mode[0], inplace = True)\n",
    "#df_train['loan'].value_counts()"
   ]
  },
  {
   "cell_type": "code",
   "execution_count": 20,
   "metadata": {},
   "outputs": [],
   "source": [
    "dict = {\"university.degree\": 6,\n",
    "        \"professional.course\": 5,\n",
    "        \"high.school\": 4,\n",
    "        \"basic.9y\": 3,\n",
    "        \"basic.6y\": 2,\n",
    "        \"basic.4y\": 1,\n",
    "        \"illiterate\": 0}\n",
    "\n",
    "df_train['education'].replace(dict, inplace = True)"
   ]
  },
  {
   "cell_type": "code",
   "execution_count": 21,
   "metadata": {},
   "outputs": [],
   "source": [
    "### Barplots for categorical variables ###\n",
    "### job and education ###\n",
    "# f, axes = plt.subplots(2, 1, figsize=(16, 8))\n",
    "# sns.barplot(df_train['job'].value_counts().values, df_train['job'].value_counts().index, ax = axes[0])\n",
    "# axes[0].set_ylabel(\"Job\")\n",
    "# sns.barplot(df_train['education'].value_counts().values, df_train['education'].value_counts().index, ax = axes[1])\n",
    "# axes[1].set_ylabel(\"Education\")\n",
    "# plt.show()"
   ]
  },
  {
   "cell_type": "code",
   "execution_count": 22,
   "metadata": {},
   "outputs": [],
   "source": [
    "### marital, default, housing, loan, contact, month, day_of_week, poutcome ###\n",
    "# f, axes = plt.subplots(4, 2, figsize=(16, 16), sharey = False)\n",
    "# sns.countplot(df_train['marital'], ax = axes[0, 0])\n",
    "# sns.countplot(df_train['default'], ax = axes[0, 1])\n",
    "# sns.countplot(df_train['housing'], ax = axes[1, 0])\n",
    "# sns.countplot(df_train['loan'], ax = axes[1, 1])\n",
    "# sns.countplot(df_train['month'], ax = axes[2, 0])\n",
    "# sns.countplot(df_train['day_of_week'], ax = axes[2, 1])\n",
    "# sns.countplot(df_train['poutcome'], ax = axes[3, 0])     \n",
    "# plt.show()"
   ]
  },
  {
   "cell_type": "code",
   "execution_count": 23,
   "metadata": {},
   "outputs": [],
   "source": [
    "### the repsonse variable \"y\" is unbalanced, use SMOTE###\n",
    "### convert value yes to 1 and no to 0\n",
    "df_train['y'].replace({'no':0, 'yes':1}, inplace = True)\n",
    "target = df_train.pop(\"y\")"
   ]
  },
  {
   "cell_type": "code",
   "execution_count": 24,
   "metadata": {},
   "outputs": [],
   "source": [
    "# df_train.dtypes"
   ]
  },
  {
   "cell_type": "code",
   "execution_count": 25,
   "metadata": {},
   "outputs": [],
   "source": [
    "###Seperate data into categorial and numeric###\n",
    "cat = ['job', 'marital', 'default', 'housing', 'loan', 'contact', 'month', 'day_of_week', 'poutcome', 'pdays']\n",
    "num = ['age', 'education', 'campaign', 'previous', 'emp.var.rate', 'cons.price.idx', 'cons.conf.idx', 'euribor3m',  'nr.employed']\n",
    "\n",
    "###Convert categorical variables to dummy variables###\n",
    "df_cat = pd.get_dummies(df_train[cat], drop_first = True)\n",
    "df_train = pd.concat([df_train, df_cat], axis = 1)\n",
    "df_train.drop(cat, axis = 1, inplace = True)\n",
    "\n",
    "###Standardize numerical variables###\n",
    "SC = StandardScaler()\n",
    "df_train[num] = SC.fit_transform(df_train[num])"
   ]
  },
  {
   "cell_type": "code",
   "execution_count": 26,
   "metadata": {},
   "outputs": [],
   "source": [
    "# df_train.shape"
   ]
  },
  {
   "cell_type": "code",
   "execution_count": 27,
   "metadata": {},
   "outputs": [],
   "source": [
    "# df_train.info()"
   ]
  },
  {
   "cell_type": "code",
   "execution_count": 28,
   "metadata": {},
   "outputs": [],
   "source": [
    "#df_train.head()"
   ]
  },
  {
   "cell_type": "code",
   "execution_count": 29,
   "metadata": {},
   "outputs": [
    {
     "data": {
      "text/plain": [
       "array([1.90369909e-01, 6.79834752e-02, 9.18333549e-02, 2.05659366e-02,\n",
       "       2.78203894e-02, 2.26037092e-02, 2.48309293e-02, 1.21497456e-01,\n",
       "       6.27469311e-02, 1.31118978e-02, 6.68413464e-03, 4.97145649e-03,\n",
       "       1.15338509e-02, 7.79961792e-03, 7.44399286e-03, 1.12474173e-02,\n",
       "       6.46658959e-03, 1.82334674e-02, 6.09650262e-03, 2.02266615e-02,\n",
       "       1.66907065e-02, 1.56300240e-02, 5.06983381e-07, 4.03175644e-02,\n",
       "       2.54312480e-02, 1.56500138e-02, 2.09381621e-03, 7.35799874e-04,\n",
       "       2.28128375e-03, 2.81872151e-03, 4.39172835e-03, 4.86159925e-03,\n",
       "       1.99009185e-03, 5.93999487e-03, 2.64681069e-03, 1.58340967e-02,\n",
       "       1.56494176e-02, 1.51114504e-02, 1.61739185e-02, 9.13006978e-03,\n",
       "       4.25534575e-02])"
      ]
     },
     "execution_count": 29,
     "metadata": {},
     "output_type": "execute_result"
    }
   ],
   "source": [
    "clf = RandomForestClassifier(n_estimators = 100, random_state = 1)\n",
    "clf.fit(df_train, target)\n",
    "clf.feature_importances_"
   ]
  },
  {
   "cell_type": "code",
   "execution_count": 30,
   "metadata": {},
   "outputs": [
    {
     "data": {
      "image/png": "[encoded data removed]",
      "text/plain": [
       "<Figure size 720x1152 with 1 Axes>"
      ]
     },
     "metadata": {
      "needs_background": "light"
     },
     "output_type": "display_data"
    }
   ],
   "source": [
    "imp = pd.DataFrame(data={'importance':clf.feature_importances_,'features':df_train.columns})\n",
    "imp = imp.set_index('features')\n",
    "imp = imp.sort_values('importance',ascending=False)\n",
    "plt.figure(figsize = (10,16))\n",
    "sns.barplot(x = imp['importance'], y = imp.index)\n",
    "plt.show()"
   ]
  },
  {
   "cell_type": "code",
   "execution_count": 31,
   "metadata": {},
   "outputs": [],
   "source": [
    "# from imblearn.over_sampling import SMOTE\n",
    "# over_samples = SMOTE(random_state = 1234)\n",
    "# x_train_smote, y_train_smote = over_samples.fit_sample(df_train, target) "
   ]
  },
  {
   "cell_type": "code",
   "execution_count": 32,
   "metadata": {},
   "outputs": [],
   "source": [
    "### Logistic Regression ###\n",
    "# from sklearn.linear_model import LogisticRegression\n",
    "# lr = LogisticRegression()\n",
    "# score = cross_val_score(lr, x_train_smote, y_train_smote, scoring = \"roc_auc\", cv = 5)\n",
    "# np.mean(score)"
   ]
  },
  {
   "cell_type": "code",
   "execution_count": 33,
   "metadata": {},
   "outputs": [],
   "source": [
    "### Support Vector Machine ###\n",
    "# from sklearn.svm import LinearSVC\n",
    "# svc = LinearSVC()\n",
    "# score = cross_val_score(svc, x_train_smote, y_train_smote, scoring = \"roc_auc\", cv = 5)\n",
    "# mean(score)"
   ]
  },
  {
   "cell_type": "code",
   "execution_count": 34,
   "metadata": {},
   "outputs": [],
   "source": [
    "dtrain = xgb.DMatrix(data = df_train, label = target)"
   ]
  },
  {
   "cell_type": "code",
   "execution_count": 35,
   "metadata": {},
   "outputs": [
    {
     "name": "stdout",
     "output_type": "stream",
     "text": [
      "[0]\ttrain-error:0.100547+0.00105664\ttest-error:0.100547+0.00422711\n",
      "[1]\ttrain-error:0.10024+0.0011357\ttest-error:0.100645+0.00410829\n"
     ]
    },
    {
     "data": {
      "text/html": [
       "<div>\n",
       "<style scoped>\n",
       "    .dataframe tbody tr th:only-of-type {\n",
       "        vertical-align: middle;\n",
       "    }\n",
       "\n",
       "    .dataframe tbody tr th {\n",
       "        vertical-align: top;\n",
       "    }\n",
       "\n",
       "    .dataframe thead th {\n",
       "        text-align: right;\n",
       "    }\n",
       "</style>\n",
       "<table border=\"1\" class=\"dataframe\">\n",
       "  <thead>\n",
       "    <tr style=\"text-align: right;\">\n",
       "      <th></th>\n",
       "      <th>train-error-mean</th>\n",
       "      <th>train-error-std</th>\n",
       "      <th>test-error-mean</th>\n",
       "      <th>test-error-std</th>\n",
       "    </tr>\n",
       "  </thead>\n",
       "  <tbody>\n",
       "    <tr>\n",
       "      <th>0</th>\n",
       "      <td>0.100547</td>\n",
       "      <td>0.001057</td>\n",
       "      <td>0.100547</td>\n",
       "      <td>0.004227</td>\n",
       "    </tr>\n",
       "    <tr>\n",
       "      <th>1</th>\n",
       "      <td>0.100240</td>\n",
       "      <td>0.001136</td>\n",
       "      <td>0.100645</td>\n",
       "      <td>0.004108</td>\n",
       "    </tr>\n",
       "  </tbody>\n",
       "</table>\n",
       "</div>"
      ],
      "text/plain": [
       "   train-error-mean  train-error-std  test-error-mean  test-error-std\n",
       "0          0.100547         0.001057         0.100547        0.004227\n",
       "1          0.100240         0.001136         0.100645        0.004108"
      ]
     },
     "execution_count": 35,
     "metadata": {},
     "output_type": "execute_result"
    }
   ],
   "source": [
    "param = {'max_depth':2, 'eta':1, 'silent':1, 'objective':'binary:logistic'}\n",
    "num_round = 2\n",
    "xgb.cv(param, dtrain, num_round, nfold=5,\n",
    "       metrics={'error'}, seed=0,\n",
    "       callbacks=[xgb.callback.print_evaluation(show_stdv=True)])"
   ]
  },
  {
   "cell_type": "code",
   "execution_count": null,
   "metadata": {},
   "outputs": [],
   "source": []
  }
 ],
 "metadata": {
  "kernelspec": {
   "display_name": "Python 3",
   "language": "python",
   "name": "python3"
  },
  "language_info": {
   "codemirror_mode": {
    "name": "ipython",
    "version": 3
   },
   "file_extension": ".py",
   "mimetype": "text/x-python",
   "name": "python",
   "nbconvert_exporter": "python",
   "pygments_lexer": "ipython3",
   "version": "3.7.5"
  }
 },
 "nbformat": 4,
 "nbformat_minor": 2
}
